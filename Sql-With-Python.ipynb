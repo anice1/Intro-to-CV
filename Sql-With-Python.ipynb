{
 "cells": [
  {
   "cell_type": "code",
   "execution_count": 23,
   "source": [
    "# !pip3 install mysql-connector-python\n",
    "import mysql.connector as sql"
   ],
   "outputs": [],
   "metadata": {}
  },
  {
   "cell_type": "code",
   "execution_count": 71,
   "source": [
    "connection = sql.connect(\n",
    "    host='127.0.0.1',\n",
    "    port='8889',\n",
    "    username='root',\n",
    "    password='root',\n",
    "    database='python_sql_training'\n",
    ")"
   ],
   "outputs": [],
   "metadata": {}
  },
  {
   "cell_type": "code",
   "execution_count": 72,
   "source": [
    "db = connection.cursor()"
   ],
   "outputs": [],
   "metadata": {}
  },
  {
   "cell_type": "code",
   "execution_count": 73,
   "source": [
    "db.execute('SHOW DATABASES')\n",
    "for i in db:\n",
    "    print(i)"
   ],
   "outputs": [
    {
     "output_type": "stream",
     "name": "stdout",
     "text": [
      "('information_schema',)\n",
      "('DashRida',)\n",
      "('dash',)\n",
      "('laravel',)\n",
      "('laravel-blog',)\n",
      "('learning_sql',)\n",
      "('mysql',)\n",
      "('mytable',)\n",
      "('performance_schema',)\n",
      "('python_sql_training',)\n",
      "('sys',)\n"
     ]
    }
   ],
   "metadata": {}
  },
  {
   "cell_type": "code",
   "execution_count": null,
   "source": [
    "db.execute('CREATE DATABASE python_sql_training')"
   ],
   "outputs": [],
   "metadata": {}
  },
  {
   "cell_type": "code",
   "execution_count": 54,
   "source": [
    "# Create Table\n",
    "db.execute(\"CREATE TABLE users (name VARCHAR(255), address VARCHAR(255))\")"
   ],
   "outputs": [],
   "metadata": {}
  },
  {
   "cell_type": "code",
   "execution_count": 74,
   "source": [
    "tables = db.execute('SHOW TABLES')\n",
    "for i in tables:\n",
    "    print(i)"
   ],
   "outputs": [
    {
     "output_type": "error",
     "ename": "TypeError",
     "evalue": "'NoneType' object is not iterable",
     "traceback": [
      "\u001b[0;31m---------------------------------------------------------------------------\u001b[0m",
      "\u001b[0;31mTypeError\u001b[0m                                 Traceback (most recent call last)",
      "\u001b[0;32m<ipython-input-74-4d53e98216c8>\u001b[0m in \u001b[0;36m<module>\u001b[0;34m\u001b[0m\n\u001b[1;32m      1\u001b[0m \u001b[0mtables\u001b[0m \u001b[0;34m=\u001b[0m \u001b[0mdb\u001b[0m\u001b[0;34m.\u001b[0m\u001b[0mexecute\u001b[0m\u001b[0;34m(\u001b[0m\u001b[0;34m'SHOW TABLES'\u001b[0m\u001b[0;34m)\u001b[0m\u001b[0;34m\u001b[0m\u001b[0;34m\u001b[0m\u001b[0m\n\u001b[0;32m----> 2\u001b[0;31m \u001b[0;32mfor\u001b[0m \u001b[0mi\u001b[0m \u001b[0;32min\u001b[0m \u001b[0mtables\u001b[0m\u001b[0;34m:\u001b[0m\u001b[0;34m\u001b[0m\u001b[0;34m\u001b[0m\u001b[0m\n\u001b[0m\u001b[1;32m      3\u001b[0m     \u001b[0mprint\u001b[0m\u001b[0;34m(\u001b[0m\u001b[0mi\u001b[0m\u001b[0;34m)\u001b[0m\u001b[0;34m\u001b[0m\u001b[0;34m\u001b[0m\u001b[0m\n",
      "\u001b[0;31mTypeError\u001b[0m: 'NoneType' object is not iterable"
     ]
    }
   ],
   "metadata": {}
  },
  {
   "cell_type": "code",
   "execution_count": 78,
   "source": [
    "! kaggle competitions download -c package-delivery-time"
   ],
   "outputs": [
    {
     "output_type": "stream",
     "name": "stdout",
     "text": [
      "403 - Forbidden\n"
     ]
    }
   ],
   "metadata": {}
  },
  {
   "cell_type": "code",
   "execution_count": 79,
   "source": [
    "! kaggle competitions list"
   ],
   "outputs": [
    {
     "output_type": "stream",
     "name": "stdout",
     "text": [
      "ref                                            deadline             category            reward  teamCount  userHasEntered  \n",
      "---------------------------------------------  -------------------  ---------------  ---------  ---------  --------------  \n",
      "contradictory-my-dear-watson                   2030-07-01 23:59:00  Getting Started     Prizes         80           False  \n",
      "gan-getting-started                            2030-07-01 23:59:00  Getting Started     Prizes        104           False  \n",
      "store-sales-time-series-forecasting            2030-06-30 23:59:00  Getting Started  Knowledge        910           False  \n",
      "tpu-getting-started                            2030-06-03 23:59:00  Getting Started  Knowledge        161           False  \n",
      "digit-recognizer                               2030-01-01 00:00:00  Getting Started  Knowledge       1838           False  \n",
      "titanic                                        2030-01-01 00:00:00  Getting Started  Knowledge      13692           False  \n",
      "house-prices-advanced-regression-techniques    2030-01-01 00:00:00  Getting Started  Knowledge       5166           False  \n",
      "connectx                                       2030-01-01 00:00:00  Getting Started  Knowledge        218           False  \n",
      "nlp-getting-started                            2030-01-01 00:00:00  Getting Started  Knowledge        869           False  \n",
      "competitive-data-science-predict-future-sales  2022-12-31 23:59:00  Playground           Kudos      13341           False  \n",
      "feedback-prize-2021                            2022-03-15 23:59:00  Featured          $160,000        626           False  \n",
      "tensorflow-great-barrier-reef                  2022-02-14 23:59:00  Research          $150,000       1117           False  \n",
      "jigsaw-toxic-severity-rating                   2022-02-07 23:59:00  Featured           $50,000       1614           False  \n",
      "g-research-crypto-forecasting                  2022-02-01 23:59:00  Featured          $125,000       1471           False  \n",
      "tabular-playground-series-jan-2022             2022-01-31 23:59:00  Playground           Kudos        648           False  \n",
      "petfinder-pawpularity-score                    2022-01-13 23:59:00  Research           $25,000       3441           False  \n",
      "santa-2021                                     2022-01-11 23:59:00  Featured           $25,000        849           False  \n",
      "optiver-realized-volatility-prediction         2022-01-10 23:59:00  Featured          $100,000       3852           False  \n",
      "nfl-big-data-bowl-2022                         2022-01-06 23:59:00  Analytics         $100,000          0           False  \n",
      "tabular-playground-series-dec-2021             2021-12-31 23:59:00  Playground            Swag       1188           False  \n"
     ]
    }
   ],
   "metadata": {}
  },
  {
   "cell_type": "code",
   "execution_count": 80,
   "source": [
    "! kaggle competitions files package-delivery-time"
   ],
   "outputs": [
    {
     "output_type": "stream",
     "name": "stdout",
     "text": [
      "name                    size  creationDate         \n",
      "---------------------  -----  -------------------  \n",
      "train.csv                6MB  2019-07-06 16:49:02  \n",
      "sample_submission.csv  552KB  2019-07-06 16:49:02  \n",
      "test.csv                 4MB  2019-07-06 16:49:02  \n"
     ]
    }
   ],
   "metadata": {}
  },
  {
   "cell_type": "code",
   "execution_count": null,
   "source": [],
   "outputs": [],
   "metadata": {}
  }
 ],
 "metadata": {
  "orig_nbformat": 4,
  "language_info": {
   "name": "python",
   "version": "3.8.8",
   "mimetype": "text/x-python",
   "codemirror_mode": {
    "name": "ipython",
    "version": 3
   },
   "pygments_lexer": "ipython3",
   "nbconvert_exporter": "python",
   "file_extension": ".py"
  },
  "kernelspec": {
   "name": "python3",
   "display_name": "Python 3.8.8 64-bit ('base': conda)"
  },
  "interpreter": {
   "hash": "dca0ade3e726a953b501b15e8e990130d2b7799f14cfd9f4271676035ebe5511"
  }
 },
 "nbformat": 4,
 "nbformat_minor": 2
}