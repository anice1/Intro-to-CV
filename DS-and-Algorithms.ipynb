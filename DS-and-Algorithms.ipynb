{
 "cells": [
  {
   "cell_type": "markdown",
   "source": [
    "## DSA"
   ],
   "metadata": {}
  },
  {
   "cell_type": "markdown",
   "source": [
    "### Find the transpose of a matrix"
   ],
   "metadata": {}
  },
  {
   "cell_type": "code",
   "execution_count": 1,
   "source": [
    "def transpose(matrix):\n",
    "    \"\"\"Takes a matrix and returns the transpose of such matrix\n",
    "\n",
    "    Args:\n",
    "        matrix 2D matrix: e.g. [[1,2,3],[4,5,6]]\n",
    "    \"\"\"\n",
    "\n",
    "    return [list(x) for x in zip(*matrix)]\n",
    "\n",
    "print(transpose([[1,2,3],[4,5,6]]))\n"
   ],
   "outputs": [
    {
     "output_type": "stream",
     "name": "stdout",
     "text": [
      "[[1, 4], [2, 5], [3, 6]]\n"
     ]
    }
   ],
   "metadata": {}
  },
  {
   "cell_type": "markdown",
   "source": [
    "### Find the determinant of a matrix"
   ],
   "metadata": {}
  },
  {
   "cell_type": "code",
   "execution_count": 8,
   "source": [
    "import numpy as np\n",
    "if isinstance(np.array([1,1]), np.ndarray):\n",
    "    print(instance)\n",
    "else:\n",
    "    print('Not string')"
   ],
   "outputs": [
    {
     "output_type": "stream",
     "name": "stdout",
     "text": [
      "string\n"
     ]
    }
   ],
   "metadata": {}
  }
 ],
 "metadata": {
  "orig_nbformat": 4,
  "language_info": {
   "name": "python",
   "version": "3.8.8",
   "mimetype": "text/x-python",
   "codemirror_mode": {
    "name": "ipython",
    "version": 3
   },
   "pygments_lexer": "ipython3",
   "nbconvert_exporter": "python",
   "file_extension": ".py"
  },
  "kernelspec": {
   "name": "python3",
   "display_name": "Python 3.8.8 64-bit ('base': conda)"
  },
  "interpreter": {
   "hash": "dca0ade3e726a953b501b15e8e990130d2b7799f14cfd9f4271676035ebe5511"
  }
 },
 "nbformat": 4,
 "nbformat_minor": 2
}